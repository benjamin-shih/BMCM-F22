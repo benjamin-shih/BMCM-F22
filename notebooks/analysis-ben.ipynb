{
 "cells": [
  {
   "cell_type": "code",
   "execution_count": null,
   "id": "091924f7-8006-44f6-b32b-06072eef6ef6",
   "metadata": {},
   "outputs": [],
   "source": [
    "import pandas as pd\n",
    "import matplotlib.pyplot as plt\n",
    "import seaborn as sns\n",
    "import matplotlib as mpl\n",
    "import numpy as np\n",
    "import math\n",
    "mpl.rcParams['figure.dpi']= 300\n",
    "sns.set(rc={'text.usetex' : True})\n",
    "import sys\n",
    "sys.path.append(\"..\")\n",
    "import src.constants as cnst"
   ]
  },
  {
   "cell_type": "code",
   "execution_count": null,
   "id": "fa2d238d-4f30-4d7a-8859-500f213bc093",
   "metadata": {},
   "outputs": [],
   "source": [
    "DATA_PATH = cnst.DATA_PATH\n",
    "provided_data = cnst.provided_path\n",
    "FIG_PATH = cnst.FIG_PATH"
   ]
  },
  {
   "cell_type": "markdown",
   "id": "2e950dc4-e7d4-41b8-87c9-e39ffcef9394",
   "metadata": {},
   "source": [
    "### Optimization Algorithm"
   ]
  },
  {
   "cell_type": "code",
   "execution_count": null,
   "id": "d6da99ae-e49d-47ad-8ba9-4660c90108b5",
   "metadata": {},
   "outputs": [],
   "source": [
    "x = np.zeros(200) #x is an array of utilities\n",
    "funds = 20000"
   ]
  },
  {
   "cell_type": "code",
   "execution_count": null,
   "id": "e8515c10-38a8-4791-a52f-632c4a3dc6dd",
   "metadata": {},
   "outputs": [],
   "source": [
    "def geo_mean(x: np.ndarray) -> float:\n",
    "    \"\"\"\n",
    "    Geometric mean with overflow protection\n",
    "    \"\"\"\n",
    "    return np.exp(np.log(x).mean())"
   ]
  },
  {
   "cell_type": "code",
   "execution_count": null,
   "id": "a05be1b3-7b1f-4ecf-9005-c376c493fddf",
   "metadata": {},
   "outputs": [],
   "source": [
    "def util(funds: float, green_pct: float, poverty_pct: float) -> float:\n",
    "    \"\"\"\n",
    "    Calculate utility for a tract\n",
    "    \"\"\"\n",
    "    return funds*(np.exp(poverty_pct + green_pct))"
   ]
  },
  {
   "cell_type": "code",
   "execution_count": null,
   "id": "5d403fa9-4e95-4bc4-9bd8-9511159f01c7",
   "metadata": {},
   "outputs": [],
   "source": [
    "def opt(x: np.ndarray, funds: int, injection: float) -> float:\n",
    "    \"\"\"\n",
    "    Optimize the utility function for geographic tracts\n",
    "    Returns geometric mean\n",
    "    \"\"\"\n",
    "    while funds > 0:\n",
    "        util_array = x\n",
    "        total_util = geo_mean(util_array)\n",
    "        max_util, max_util_idx = 0, 0\n",
    "        for idx, u in enumerate(util_array):\n",
    "            tract_utility = util(injection, green_pcts[idx], poverty_pcts[idx]))\n",
    "            if cur_utility > max_util:\n",
    "                max_util = tract_utility\n",
    "                max_util_idx = idx\n",
    "            utils[max_utils_idx] = max_util\n",
    "            green_pcts[max_utils_idx] = new_green()\n",
    "        \n",
    "        funds -= injection"
   ]
  },
  {
   "cell_type": "code",
   "execution_count": null,
   "id": "b76ff110-043d-4eb5-ac9d-25f16a7cc27a",
   "metadata": {},
   "outputs": [],
   "source": [
    "df = pd.read_csv(DATA_PATH + provided_data)\n",
    "df.rename(columns={'PercentPopIncomeBelow2xPovertyLevel': 'PctPvty', 'AvgReduxinNighttimeAnnualTemp_Celsius': 'TempRedux', 'Percent_GreenSpace': 'PctGrSpc'}, inplace=True)\n",
    "green_pcts = df[\"PctGrSpc\"].tolist()\n",
    "poverty_pcts = df[\"PctPvty\"].tolist()\n"
   ]
  },
  {
   "cell_type": "code",
   "execution_count": null,
   "id": "8ef37f20-742b-43ab-bb83-a7a74c0d7420",
   "metadata": {},
   "outputs": [],
   "source": []
  }
 ],
 "metadata": {
  "kernelspec": {
   "display_name": "Python [conda env:imcm] *",
   "language": "python",
   "name": "conda-env-imcm-py"
  },
  "language_info": {
   "codemirror_mode": {
    "name": "ipython",
    "version": 3
   },
   "file_extension": ".py",
   "mimetype": "text/x-python",
   "name": "python",
   "nbconvert_exporter": "python",
   "pygments_lexer": "ipython3",
   "version": "3.8.12"
  }
 },
 "nbformat": 4,
 "nbformat_minor": 5
}
