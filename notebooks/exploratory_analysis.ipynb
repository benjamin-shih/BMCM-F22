{
 "cells": [
  {
   "cell_type": "code",
   "execution_count": null,
   "id": "d826777c-7693-45f3-ae2e-c12c7b7b04d0",
   "metadata": {},
   "outputs": [],
   "source": [
    "import pandas as pd\n",
    "import matplotlib.pyplot as plt\n",
    "import seaborn as sns\n",
    "import matplotlib as mpl\n",
    "import numpy as np\n",
    "import math\n",
    "mpl.rcParams['figure.dpi']= 300\n",
    "sns.set()"
   ]
  },
  {
   "cell_type": "code",
   "execution_count": null,
   "id": "255fd152-3d34-40e9-aa2f-2f3ab14aef0b",
   "metadata": {},
   "outputs": [],
   "source": [
    "DATA_PATH = '../data/'\n",
    "provided_data = 'BMCM_2022_data.csv'"
   ]
  },
  {
   "cell_type": "code",
   "execution_count": null,
   "id": "c37c931b-7aba-4638-8518-13004c049df5",
   "metadata": {},
   "outputs": [],
   "source": [
    "df = pd.read_csv(DATA_PATH + provided_data)"
   ]
  },
  {
   "cell_type": "code",
   "execution_count": null,
   "id": "c6be2dfb-3f7f-435b-92f5-9d474666a3af",
   "metadata": {},
   "outputs": [],
   "source": [
    "df.describe()"
   ]
  },
  {
   "cell_type": "code",
   "execution_count": null,
   "id": "c15048e0-3943-4bef-ae58-83beaa1114a6",
   "metadata": {},
   "outputs": [],
   "source": [
    "df.head()"
   ]
  },
  {
   "cell_type": "code",
   "execution_count": null,
   "id": "5ca47efc-1290-401a-bb4d-bd105846418a",
   "metadata": {},
   "outputs": [],
   "source": [
    "#scatterplot lambda\n",
    "sc = lambda df, x, y: plt.scatter(df[x], df[y])"
   ]
  },
  {
   "cell_type": "code",
   "execution_count": null,
   "id": "992f234c-fe3b-4a9a-a5cc-8fef9828a425",
   "metadata": {},
   "outputs": [],
   "source": [
    "sc(df, \"long\", \"AvgReduxinNighttimeAnnualTemp_Celsius\")\n",
    "plt.xlabel(\"Longitude\")\n",
    "plt.ylabel(\"Average Reduction in Nightttime Temperature (C)\")\n",
    "plt.title(\"Longitude vs. Temp Reduction\")"
   ]
  },
  {
   "cell_type": "code",
   "execution_count": null,
   "id": "105d0623-c466-4602-8aa2-6a7b7e4e04a7",
   "metadata": {},
   "outputs": [],
   "source": [
    "sc(df, \"lat\", \"AvgReduxinNighttimeAnnualTemp_Celsius\")\n",
    "plt.xlabel(\"Latitude\")\n",
    "plt.ylabel(\"Average Reduction in Nightttime Temperature (C)\")\n",
    "plt.title(\"Latitude vs. Temp Reduction\")"
   ]
  },
  {
   "cell_type": "code",
   "execution_count": null,
   "id": "08c820ea-f13e-45c0-9520-50b72b66b35a",
   "metadata": {},
   "outputs": [],
   "source": [
    "sc(df, \"Percent_GreenSpace\", \"AvgReduxinNighttimeAnnualTemp_Celsius\")\n",
    "plt.xlabel(\"Green Space (%)\")\n",
    "plt.ylabel(\"Average Reduction in Nightttime Temperature (C)\")\n",
    "plt.title(\"Green Space Percentage vs. Temp Reduction\")"
   ]
  },
  {
   "cell_type": "code",
   "execution_count": null,
   "id": "d4600eca-5c45-483e-8c16-70341a79ca92",
   "metadata": {},
   "outputs": [],
   "source": [
    "df[\"AvgReduxinNighttimeAnnualTemp_Celsius\"] = df[\"AvgReduxinNighttimeAnnualTemp_Celsius\"] * 10\n",
    "df"
   ]
  },
  {
   "cell_type": "code",
   "execution_count": null,
   "id": "8c4f431b-f31e-47ca-aca5-167835765101",
   "metadata": {},
   "outputs": [],
   "source": [
    "sns.jointplot(data=df, x=\"lat\", y=\"long\", hue=\"AvgReduxinNighttimeAnnualTemp_Celsius\") #, rug=True)"
   ]
  }
 ],
 "metadata": {
  "kernelspec": {
   "display_name": "Python [conda env:imcm] *",
   "language": "python",
   "name": "conda-env-imcm-py"
  },
  "language_info": {
   "codemirror_mode": {
    "name": "ipython",
    "version": 3
   },
   "file_extension": ".py",
   "mimetype": "text/x-python",
   "name": "python",
   "nbconvert_exporter": "python",
   "pygments_lexer": "ipython3",
   "version": "3.8.12"
  }
 },
 "nbformat": 4,
 "nbformat_minor": 5
}
