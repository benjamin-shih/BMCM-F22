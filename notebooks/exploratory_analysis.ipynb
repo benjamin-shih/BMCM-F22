{
 "cells": [
  {
   "cell_type": "code",
   "execution_count": null,
   "id": "d826777c-7693-45f3-ae2e-c12c7b7b04d0",
   "metadata": {},
   "outputs": [],
   "source": [
    "import pandas as pd\n",
    "import matplotlib.pyplot as plt\n",
    "import seaborn as sns\n",
    "import matplotlib as mpl\n",
    "import numpy as np\n",
    "import math\n",
    "mpl.rcParams['figure.dpi']= 300\n",
    "sns.set(rc={'text.usetex' : True})\n",
    "import sys\n",
    "sys.path.append(\"..\")\n",
    "import src.constants as cnst"
   ]
  },
  {
   "cell_type": "code",
   "execution_count": null,
   "id": "255fd152-3d34-40e9-aa2f-2f3ab14aef0b",
   "metadata": {},
   "outputs": [],
   "source": [
    "DATA_PATH = cnst.DATA_PATH\n",
    "provided_data = cnst.provided_path\n",
    "FIG_PATH = cnst.FIG_PATH"
   ]
  },
  {
   "cell_type": "code",
   "execution_count": null,
   "id": "c37c931b-7aba-4638-8518-13004c049df5",
   "metadata": {},
   "outputs": [],
   "source": [
    "df = pd.read_csv(DATA_PATH + provided_data)\n",
    "df.rename(columns={'PercentPopIncomeBelow2xPovertyLevel': 'PctPvty', 'AvgReduxinNighttimeAnnualTemp_Celsius': 'TempRedux', 'Percent_GreenSpace': 'PctGrSpc'}, inplace=True)"
   ]
  },
  {
   "cell_type": "code",
   "execution_count": null,
   "id": "c6be2dfb-3f7f-435b-92f5-9d474666a3af",
   "metadata": {},
   "outputs": [],
   "source": [
    "df.describe()"
   ]
  },
  {
   "cell_type": "code",
   "execution_count": null,
   "id": "c15048e0-3943-4bef-ae58-83beaa1114a6",
   "metadata": {},
   "outputs": [],
   "source": [
    "df.head()"
   ]
  },
  {
   "cell_type": "code",
   "execution_count": null,
   "id": "992f234c-fe3b-4a9a-a5cc-8fef9828a425",
   "metadata": {},
   "outputs": [],
   "source": [
    "cnst.sc(df, \"long\", \"TempRedux\")\n",
    "plt.xlabel(\"Longitude\")\n",
    "plt.ylabel(\"Average Reduction in Nightttime Temperature (C)\")\n",
    "plt.title(\"Longitude vs. Temp Reduction\")"
   ]
  },
  {
   "cell_type": "code",
   "execution_count": null,
   "id": "105d0623-c466-4602-8aa2-6a7b7e4e04a7",
   "metadata": {},
   "outputs": [],
   "source": [
    "cnst.sc(df, \"lat\", \"TempRedux\")\n",
    "plt.xlabel(\"Latitude\")\n",
    "plt.ylabel(\"Average Reduction in Nightttime Temperature (C)\")\n",
    "plt.title(\"Latitude vs. Temp Reduction\")"
   ]
  },
  {
   "cell_type": "code",
   "execution_count": null,
   "id": "8c4f431b-f31e-47ca-aca5-167835765101",
   "metadata": {},
   "outputs": [],
   "source": [
    "g = sns.jointplot(data=df, x=\"lat\", y=\"long\", color=\"b\")\n",
    "g.plot_joint(sns.kdeplot, color=\"b\", zorder=1, levels=7, fill=True)\n",
    "g.plot_marginals(sns.rugplot, color=\"b\", height=-.15, clip_on=False)\n",
    "g.set_axis_labels('Latitude', 'Longitude')\n",
    "cnst.sf('inan_density.png')"
   ]
  },
  {
   "cell_type": "code",
   "execution_count": null,
   "id": "197c23af-2eda-4373-8cb3-e97380d66bbf",
   "metadata": {},
   "outputs": [],
   "source": [
    "fig, ax = plt.subplots()\n",
    "cmap = sns.cubehelix_palette(start=.5, rot=-.5, as_cmap=True)\n",
    "g = sns.scatterplot(data=df, x='lat', y='long', hue='TempRedux', palette=cmap)\n",
    "g.legend(loc='center left', bbox_to_anchor=(1.25, 0.5), ncol=1)\n",
    "g.legend().remove()\n",
    "g.set_xlabel('Latitude')\n",
    "g.set_ylabel('Longitude')\n",
    "norm = plt.Normalize(df['TempRedux'].min(), df['TempRedux'].max())\n",
    "sm = plt.cm.ScalarMappable(cmap=cmap, norm=norm)\n",
    "ax.figure.colorbar(sm).set_label(\"Average Nighttime Temperature Reduction ($^\\circ$C)\", rotation=270, labelpad=15)\n",
    "plt.title(\"Average Temperature Reduction vs Location\")\n",
    "cnst.sf('inan_tempredux_loc.png')"
   ]
  },
  {
   "cell_type": "code",
   "execution_count": null,
   "id": "d210c6d4-b91b-4e17-92e3-548d3c74286c",
   "metadata": {},
   "outputs": [],
   "source": [
    "fig, ax = plt.subplots()\n",
    "cmap = sns.cubehelix_palette(start=2, rot=0, dark=0, light=.95, reverse=False, as_cmap=True)\n",
    "g = sns.scatterplot(data=df, x='lat', y='long', hue='PctGrSpc', palette=cmap)\n",
    "g.legend(loc='center left', bbox_to_anchor=(1.25, 0.5), ncol=1)\n",
    "g.legend().remove()\n",
    "g.set_xlabel('Latitude')\n",
    "g.set_ylabel('Longitude')\n",
    "norm = plt.Normalize(df['PctGrSpc'].min(), df['PctGrSpc'].max())\n",
    "sm = plt.cm.ScalarMappable(cmap=cmap, norm=norm)\n",
    "ax.figure.colorbar(sm).set_label(\"Green Space (\\%)\", rotation=270, labelpad=15)\n",
    "plt.title(\"Location Green Space Percentage\")\n",
    "cnst.sf('inan_green_loc.png')"
   ]
  },
  {
   "cell_type": "code",
   "execution_count": null,
   "id": "fcfbcaf3-8f74-46de-8843-e901619e5b32",
   "metadata": {},
   "outputs": [],
   "source": [
    "fig, ax = plt.subplots()\n",
    "cmap = sns.color_palette(\"flare\", as_cmap=True)\n",
    "g = sns.scatterplot(data=df, x='lat', y='long', hue='PctPvty', palette=cmap)\n",
    "g.legend(loc='center left', bbox_to_anchor=(1.25, 0.5), ncol=1)\n",
    "g.legend().remove()\n",
    "g.set_xlabel('Latitude')\n",
    "g.set_ylabel('Longitude')\n",
    "norm = plt.Normalize(df['PctPvty'].min(), df['PctPvty'].max())\n",
    "sm = plt.cm.ScalarMappable(cmap=cmap, norm=norm)\n",
    "ax.figure.colorbar(sm).set_label(\"Poverty (\\%)\", rotation=270, labelpad=15)\n",
    "plt.title(\"Location Poverty Percentage\")\n",
    "cnst.sf('inan_pvty_loc.png')"
   ]
  },
  {
   "cell_type": "code",
   "execution_count": null,
   "id": "6d2d1491-b307-4fb6-9997-066053a0c53c",
   "metadata": {},
   "outputs": [],
   "source": [
    "sns.kdeplot(df.TempRedux, fill=True)\n",
    "plt.xlabel(r'Temperature Change ($^\\circ$C)')\n",
    "plt.title(\"Average Nighttime Temperature Change Distribution\")\n",
    "cnst.sf(\"inan_temp_dist.png\")"
   ]
  },
  {
   "cell_type": "code",
   "execution_count": null,
   "id": "c1e51278-14cc-449b-8827-cf6e3979c738",
   "metadata": {},
   "outputs": [],
   "source": [
    "sns.kdeplot(df.PctPvty, fill=True, label='Percent Poverty')\n",
    "sns.kdeplot(df.PctGrSpc, fill=True, label='Percent Green Space')\n",
    "plt.legend(loc='upper left')\n",
    "plt.title(\"Poverty and Green Space Distribution Estimations\")\n",
    "plt.xlabel(\"Percentage\")\n",
    "plt.xlim(0,100)\n",
    "cnst.sf(\"inan_pct_dists.png\")"
   ]
  },
  {
   "cell_type": "code",
   "execution_count": null,
   "id": "12114142-04b8-4a3e-b6e7-af28ca63d659",
   "metadata": {},
   "outputs": [],
   "source": [
    "g = sns.jointplot(data=df, x=\"PctGrSpc\", y=\"TempRedux\", kind=\"reg\", scatter_kws={\"s\": 20}, line_kws={\"color\": \"#8caaee\"}) \n",
    "plt.xlabel(r'Green Space (\\%)')\n",
    "plt.ylabel(r'Average Temperature Change ($^\\circ$C)')\n",
    "g.fig.suptitle(\"Green Space vs Temperature Change\", y=1)\n",
    "cnst.sf('inan_green_vs_temp.png')"
   ]
  },
  {
   "cell_type": "code",
   "execution_count": null,
   "id": "d0f4fb13-e306-487b-98d9-c213112fc0c7",
   "metadata": {},
   "outputs": [],
   "source": [
    "g = sns.jointplot(data=df, x=\"PctPvty\", y=\"TempRedux\", kind=\"reg\", scatter_kws={\"s\": 20}, line_kws={\"color\": \"#8caaee\"}) \n",
    "plt.xlabel(r'Poverty (\\%)')\n",
    "plt.ylabel(r'Average Temperature Change ($^\\circ$C)')\n",
    "g.fig.suptitle(\"Poverty vs Temperature Change\", y=1)\n",
    "cnst.sf(\"inan_pvty_vs_temp.png\")"
   ]
  },
  {
   "cell_type": "code",
   "execution_count": null,
   "id": "bc295314-9cb4-496e-8a74-4368da41e58e",
   "metadata": {},
   "outputs": [],
   "source": [
    "g = sns.jointplot(data=df, x=\"PctPvty\", y=\"PctGrSpc\", kind=\"reg\", scatter_kws={\"s\": 20}, line_kws={\"color\": \"#8caaee\"}) \n",
    "plt.xlabel(r'Poverty (\\%)')\n",
    "plt.ylabel(r'Green Space (\\%)')\n",
    "g.fig.suptitle(\"Poverty vs Green Space\", y=1)\n",
    "cnst.sf(\"inan_pvty_vs_green.png\")"
   ]
  }
 ],
 "metadata": {
  "kernelspec": {
   "display_name": "Python [conda env:imcm] *",
   "language": "python",
   "name": "conda-env-imcm-py"
  },
  "language_info": {
   "codemirror_mode": {
    "name": "ipython",
    "version": 3
   },
   "file_extension": ".py",
   "mimetype": "text/x-python",
   "name": "python",
   "nbconvert_exporter": "python",
   "pygments_lexer": "ipython3",
   "version": "3.8.12"
  }
 },
 "nbformat": 4,
 "nbformat_minor": 5
}
