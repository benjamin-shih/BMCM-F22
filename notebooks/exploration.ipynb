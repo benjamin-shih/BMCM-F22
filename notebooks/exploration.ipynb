{
 "cells": [
  {
   "cell_type": "code",
   "execution_count": null,
   "id": "61f061e6-8e57-4e55-8f5b-5dec7dbb2604",
   "metadata": {},
   "outputs": [],
   "source": [
    "import numpy as np\n",
    "import seaborn as sns"
   ]
  },
  {
   "cell_type": "code",
   "execution_count": null,
   "id": "5aadbefc",
   "metadata": {},
   "outputs": [],
   "source": [
    "x = \"roy beans\""
   ]
  }
 ],
 "metadata": {
  "kernelspec": {
   "display_name": "Python [conda env:imcm] *",
   "language": "python",
   "name": "conda-env-imcm-py"
  },
  "language_info": {
   "codemirror_mode": {
    "name": "ipython",
    "version": 3
   },
   "file_extension": ".py",
   "mimetype": "text/x-python",
   "name": "python",
   "nbconvert_exporter": "python",
   "pygments_lexer": "ipython3",
   "version": "3.8.12"
  },
  "vscode": {
   "interpreter": {
    "hash": "a91bc9560e60adef3425f52c7060551b40041a64b546e7067e21beb06e7ecb47"
   }
  }
 },
 "nbformat": 4,
 "nbformat_minor": 5
}
