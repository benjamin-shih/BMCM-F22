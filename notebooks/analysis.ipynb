{
 "cells": [
  {
   "cell_type": "code",
   "execution_count": null,
   "id": "091924f7-8006-44f6-b32b-06072eef6ef6",
   "metadata": {},
   "outputs": [],
   "source": [
    "import pandas as pd\n",
    "import matplotlib.pyplot as plt\n",
    "import seaborn as sns\n",
    "import matplotlib as mpl\n",
    "import numpy as np\n",
    "import math\n",
    "mpl.rcParams['figure.dpi']= 300\n",
    "sns.set(rc={'text.usetex' : True})\n",
    "import sys\n",
    "sys.path.append(\"..\")\n",
    "import src.constants as cnst\n",
    "from typing import Tuple, List"
   ]
  },
  {
   "cell_type": "code",
   "execution_count": null,
   "id": "fa2d238d-4f30-4d7a-8859-500f213bc093",
   "metadata": {},
   "outputs": [],
   "source": [
    "DATA_PATH = cnst.DATA_PATH\n",
    "provided_data = cnst.provided_path\n",
    "FIG_PATH = cnst.FIG_PATH\n",
    "df = pd.read_csv(DATA_PATH + provided_data)\n",
    "df.rename(columns={'PercentPopIncomeBelow2xPovertyLevel': 'PctPvty', 'AvgReduxinNighttimeAnnualTemp_Celsius': 'TempRedux', 'Percent_GreenSpace': 'PctGrSpc'}, inplace=True)"
   ]
  },
  {
   "cell_type": "code",
   "execution_count": null,
   "id": "03e73c03-ee22-4afb-b6bb-55f0eaadfba5",
   "metadata": {},
   "outputs": [],
   "source": [
    "all_col =pd.read_csv(DATA_PATH + 'all_columns.csv')\n",
    "all_col"
   ]
  },
  {
   "cell_type": "markdown",
   "id": "2e950dc4-e7d4-41b8-87c9-e39ffcef9394",
   "metadata": {},
   "source": [
    "### Optimization Algorithm"
   ]
  },
  {
   "cell_type": "code",
   "execution_count": null,
   "id": "d6da99ae-e49d-47ad-8ba9-4660c90108b5",
   "metadata": {},
   "outputs": [],
   "source": [
    "x = np.ones(193) #x is an array of utilities\n",
    "green_pcts = df[\"PctGrSpc\"].to_numpy()\n",
    "poverty_pcts = df[\"PctPvty\"].to_numpy()\n",
    "area = all_col.area #array of areas\n",
    "population = all_col.population #array of populations\n",
    "funds = 2000"
   ]
  },
  {
   "cell_type": "code",
   "execution_count": null,
   "id": "e8515c10-38a8-4791-a52f-632c4a3dc6dd",
   "metadata": {},
   "outputs": [],
   "source": [
    "def geo_mean(x: np.ndarray) -> float:\n",
    "    \"\"\"\n",
    "    Geometric mean with overflow protection\n",
    "    \"\"\"\n",
    "    return np.exp(np.log(x).mean())"
   ]
  },
  {
   "cell_type": "code",
   "execution_count": null,
   "id": "326cb031-abb9-4155-97a2-15ae1952ad10",
   "metadata": {},
   "outputs": [],
   "source": [
    "def green_cost(green_percent: float):\n",
    "    return 500*(1-(green_percent*0.01))"
   ]
  },
  {
   "cell_type": "code",
   "execution_count": null,
   "id": "cb64d879-9bf7-4446-9720-1ed2db204ddb",
   "metadata": {},
   "outputs": [],
   "source": [
    "def green_change(funds: int, prev_green: float, area: int) -> float:\n",
    "    \"\"\"\n",
    "    Calculate change in green percentage given funds\n",
    "    \"\"\"\n",
    "    return ((funds/green_cost(prev_green)) + (prev_green*area)) / area"
   ]
  },
  {
   "cell_type": "code",
   "execution_count": null,
   "id": "3c9bd34c-f207-49e3-b3c6-3abb98f508e3",
   "metadata": {},
   "outputs": [],
   "source": [
    "green_change(200, .405, .5)"
   ]
  },
  {
   "cell_type": "code",
   "execution_count": null,
   "id": "be488782-be96-4cbd-a504-08f29fb66fc5",
   "metadata": {},
   "outputs": [],
   "source": [
    "from sklearn.linear_model import LinearRegression\n",
    "X = df.PctGrSpc.to_numpy().reshape(-1, 1)\n",
    "y = df.TempRedux.to_numpy()\n",
    "X_train, X_test = X[:-20], X[-20:]\n",
    "y_train, y_test = y[:-20], y[-20:]\n",
    "reg = LinearRegression().fit(X_train, y_train)\n",
    "reg.coef_"
   ]
  },
  {
   "cell_type": "code",
   "execution_count": null,
   "id": "d8635d4a-8fac-4c49-a407-62a753304271",
   "metadata": {},
   "outputs": [],
   "source": [
    "def temp_change(curr_green: float, prev_green: float, model: LinearRegression) -> float:\n",
    "    \"\"\"\n",
    "    Calculate temperature change resulting from additional green coverage\n",
    "    \"\"\"\n",
    "    return model.predict([[curr_green]]) - model.predict([[prev_green]])"
   ]
  },
  {
   "cell_type": "code",
   "execution_count": null,
   "id": "bc81db38-4aa8-418f-ac13-2e5e5987ca51",
   "metadata": {},
   "outputs": [],
   "source": [
    "temp_change(70, 20, reg)"
   ]
  },
  {
   "cell_type": "code",
   "execution_count": null,
   "id": "a05be1b3-7b1f-4ecf-9005-c376c493fddf",
   "metadata": {},
   "outputs": [],
   "source": [
    "def util(population: int, prev_green: float, curr_green: float, poverty_pct: float, model: LinearRegression) -> float:\n",
    "    \"\"\"\n",
    "    Calculate utility for a tract\n",
    "    \"\"\"\n",
    "    return population * np.log(1 + temp_change(curr_green, prev_green, model)) * np.exp(poverty_pct*0.01)"
   ]
  },
  {
   "cell_type": "code",
   "execution_count": null,
   "id": "5d403fa9-4e95-4bc4-9bd8-9511159f01c7",
   "metadata": {},
   "outputs": [],
   "source": [
    "def opt(x: np.ndarray, green_pct: np.ndarray, ar: np.ndarray, pop: np.ndarray, pvty_pct: np.ndarray, funds: int, injection: float, reg: LinearRegression) -> Tuple[np.ndarray, float, List]:\n",
    "    \"\"\"\n",
    "    Optimize the utility function for geographic tracts\n",
    "    Returns geometric mean\n",
    "    \"\"\"\n",
    "    util_delta = []\n",
    "    util_array = x\n",
    "    while funds > 0:\n",
    "        total_util = geo_mean(util_array)\n",
    "        max_util_delta, max_util_idx = 0, -1\n",
    "        for idx, u in enumerate(util_array):\n",
    "            temp = util_array.copy()\n",
    "            new_green = green_change(injection, green_pct[idx], ar[idx])\n",
    "            if new_green > 90:\n",
    "                continue\n",
    "            else:\n",
    "                temp[idx] += util(pop[idx], green_pct[idx], new_green, pvty_pct[idx], reg)\n",
    "                curr_util = geo_mean(temp)\n",
    "                delta = curr_util - total_util\n",
    "                if delta >= max_util_delta:\n",
    "                    max_util_delta = delta\n",
    "                    max_util_idx = idx\n",
    "        util_delta.append(max_util_delta)\n",
    "        ng = green_change(injection, green_pct[max_util_idx], ar[max_util_idx])\n",
    "        util_array[max_util_idx] += util(pop[max_util_idx], green_pct[max_util_idx], ng, pvty_pct[max_util_idx], reg)\n",
    "        green_pct[max_util_idx] = ng\n",
    "        funds -= injection\n",
    "    return util_array, geo_mean(util_array), util_delta"
   ]
  },
  {
   "cell_type": "code",
   "execution_count": null,
   "id": "8ef37f20-742b-43ab-bb83-a7a74c0d7420",
   "metadata": {},
   "outputs": [],
   "source": [
    "test = opt(x.copy(), green_pcts.copy(), area.copy(), population.copy(), poverty_pcts.copy(), funds, 10, reg)"
   ]
  },
  {
   "cell_type": "code",
   "execution_count": null,
   "id": "c2b1be1d-92fa-48f9-895d-1641f76e2203",
   "metadata": {},
   "outputs": [],
   "source": [
    "plt.plot(test[2])\n",
    "plt.xlabel(\"Iteration\")\n",
    "plt.ylabel(\"$\\Delta$Utility\")\n",
    "#plt.xlim(5, 194)\n",
    "plt.title(\"Utility Change Over Optimization Process\")\n",
    "cnst.sf(\"viz_util_delta.png\")"
   ]
  },
  {
   "cell_type": "code",
   "execution_count": null,
   "id": "9f5cc32e-9bfe-458c-9e87-e07664ee5d62",
   "metadata": {},
   "outputs": [],
   "source": [
    "#plt.plot(test[0])\n",
    "plt.scatter(poverty_pcts, test[0])\n",
    "# plt.plot(green_pcts, test[0])\n",
    "# plt.plot(area, test[0])\n",
    "# plt.plot(population, test[0])"
   ]
  },
  {
   "cell_type": "code",
   "execution_count": null,
   "id": "dbd132d4-d20e-4482-a0bd-cc570dfb6aaa",
   "metadata": {},
   "outputs": [],
   "source": [
    "std = test[0].std()\n",
    "mean = test[0].mean()\n",
    "dat = [i for i, j in enumerate(test[0]) if j >= mean + 2 * std]\n",
    "df_p = all_col.iloc[dat]"
   ]
  },
  {
   "cell_type": "code",
   "execution_count": null,
   "id": "c97af7b8-865f-4c34-b83c-508ebd07a499",
   "metadata": {},
   "outputs": [],
   "source": [
    "g = sns.scatterplot(data=df, x='lat', y='long', hue='PctPvty', palette=\"vlag\")\n",
    "g.legend(loc='center left', bbox_to_anchor=(1.25, 0.5), ncol=1)\n",
    "plt.title(\"Poverty (\\%) vs location\")\n",
    "plt.xlim([35.8, 36.05])\n",
    "plt.ylim([-79.1, -78.8])"
   ]
  },
  {
   "cell_type": "code",
   "execution_count": null,
   "id": "116819e7-5699-49ed-a986-3ada5aea9ffa",
   "metadata": {},
   "outputs": [],
   "source": [
    "g = sns.scatterplot(data=df_p, x='latitude', y='longitude', hue='perc_below_2pov', palette=\"vlag\")\n",
    "g.legend(loc='center left', bbox_to_anchor=(1.25, 0.5), ncol=1)\n",
    "plt.title(\"Poverty (\\%) vs location\")\n",
    "plt.xlim([35.8, 36.05])\n",
    "plt.ylim([-79.1, -78.8])"
   ]
  },
  {
   "cell_type": "code",
   "execution_count": null,
   "id": "12e135ba-20db-4594-bbe5-ed492b348484",
   "metadata": {},
   "outputs": [],
   "source": [
    "all_col.iloc[dat].describe()"
   ]
  },
  {
   "cell_type": "code",
   "execution_count": null,
   "id": "1ce41161-86c4-41ad-877c-d6a62192949f",
   "metadata": {},
   "outputs": [],
   "source": [
    "all_col.describe()"
   ]
  }
 ],
 "metadata": {
  "kernelspec": {
   "display_name": "Python [conda env:imcm] *",
   "language": "python",
   "name": "conda-env-imcm-py"
  },
  "language_info": {
   "codemirror_mode": {
    "name": "ipython",
    "version": 3
   },
   "file_extension": ".py",
   "mimetype": "text/x-python",
   "name": "python",
   "nbconvert_exporter": "python",
   "pygments_lexer": "ipython3",
   "version": "3.8.12"
  }
 },
 "nbformat": 4,
 "nbformat_minor": 5
}
