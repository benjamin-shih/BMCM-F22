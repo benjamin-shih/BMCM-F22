{
 "cells": [
  {
   "cell_type": "code",
   "execution_count": null,
   "id": "091924f7-8006-44f6-b32b-06072eef6ef6",
   "metadata": {},
   "outputs": [],
   "source": [
    "import pandas as pd\n",
    "import matplotlib.pyplot as plt\n",
    "import seaborn as sns\n",
    "import matplotlib as mpl\n",
    "import numpy as np\n",
    "import math\n",
    "mpl.rcParams['figure.dpi']= 300\n",
    "sns.set(rc={'text.usetex' : True, 'figure.autolayout': True})\n",
    "import sys\n",
    "sys.path.append(\"..\")\n",
    "import src.constants as cnst\n",
    "import src.opt as runner\n",
    "from typing import Tuple, List"
   ]
  },
  {
   "cell_type": "code",
   "execution_count": null,
   "id": "fa2d238d-4f30-4d7a-8859-500f213bc093",
   "metadata": {},
   "outputs": [],
   "source": [
    "DATA_PATH = cnst.DATA_PATH\n",
    "all_cols = cnst.all_col_path\n",
    "FIG_PATH = cnst.FIG_PATH\n",
    "df = pd.read_csv(DATA_PATH + all_cols)\n",
    "df.rename(columns={'perc_below_2pov': 'PctPvty'}, inplace=True)"
   ]
  },
  {
   "cell_type": "code",
   "execution_count": null,
   "id": "47a48142-1f67-4306-a52d-5e475844d62f",
   "metadata": {},
   "outputs": [],
   "source": [
    "df.describe()"
   ]
  },
  {
   "cell_type": "markdown",
   "id": "2e950dc4-e7d4-41b8-87c9-e39ffcef9394",
   "metadata": {},
   "source": [
    "### Optimization Algorithm"
   ]
  },
  {
   "cell_type": "code",
   "execution_count": null,
   "id": "5d403fa9-4e95-4bc4-9bd8-9511159f01c7",
   "metadata": {},
   "outputs": [],
   "source": [
    "from sklearn.linear_model import LinearRegression\n",
    "def opt(x: np.ndarray, green_pct: np.ndarray, ar: np.ndarray, pop: np.ndarray, pvty_pct: np.ndarray, funds: int, injection: float, reg: LinearRegression) -> Tuple[np.ndarray, float, List]:\n",
    "    \"\"\"\n",
    "    Optimize the utility function for geographic tracts\n",
    "    Returns geometric mean\n",
    "    \"\"\"\n",
    "    util_delta = []\n",
    "    util_array = x\n",
    "    while funds > 0:\n",
    "        total_util = runner.geo_mean(util_array)\n",
    "        max_util_delta, max_util_idx = 0, -1\n",
    "        for idx, u in enumerate(util_array):\n",
    "            temp = util_array.copy()\n",
    "            new_green = runner.green_change(injection, green_pct[idx], ar[idx])\n",
    "            if new_green > 95:\n",
    "                continue\n",
    "            else:\n",
    "                temp[idx] += runner.util(pop[idx], green_pct[idx], new_green, pvty_pct[idx], reg)\n",
    "                curr_util = runner.geo_mean(temp)\n",
    "                delta = curr_util - total_util\n",
    "                if delta >= max_util_delta:\n",
    "                    max_util_delta = delta\n",
    "                    max_util_idx = idx\n",
    "        util_delta.append(total_util)\n",
    "        ng = runner.green_change(injection, green_pct[max_util_idx], ar[max_util_idx])\n",
    "        util_array[max_util_idx] += runner.util(pop[max_util_idx], green_pct[max_util_idx], ng, pvty_pct[max_util_idx], reg)\n",
    "        green_pct[max_util_idx] = ng\n",
    "        funds -= injection\n",
    "    return util_array, runner.geo_mean(util_array), util_delta"
   ]
  },
  {
   "cell_type": "code",
   "execution_count": null,
   "id": "5b4ea6a4-bee6-4763-9707-51c8575bee43",
   "metadata": {},
   "outputs": [],
   "source": [
    "x = np.ones(193)  # x is an array of utilities\n",
    "green_pcts = df[\"green_percent\"].to_numpy()\n",
    "poverty_pcts = df[\"PctPvty\"].to_numpy()\n",
    "area = df.area  # array of areas\n",
    "population = df.population  # array of populations\n",
    "funds = 2000\n",
    "reg = runner.regressor(df)"
   ]
  },
  {
   "cell_type": "code",
   "execution_count": null,
   "id": "8ef37f20-742b-43ab-bb83-a7a74c0d7420",
   "metadata": {},
   "outputs": [],
   "source": [
    "f_util, f_mean, delta_prog = opt(x.copy(), green_pcts.copy(), area.copy(), population.copy(), poverty_pcts.copy(), funds, 10, reg)"
   ]
  },
  {
   "cell_type": "code",
   "execution_count": null,
   "id": "f3b58a20-832c-4e48-a8f1-0b1bd0af2f38",
   "metadata": {},
   "outputs": [],
   "source": [
    "coords = pd.concat([df[['latitude', 'longitude']], pd.Series(f_util, name=\"util\")], axis=1)\n",
    "coords[\"density\"] = df.population / df.area\n",
    "coords.describe()"
   ]
  },
  {
   "cell_type": "markdown",
   "id": "534f365e-96fa-4d48-a181-36d2a61539f4",
   "metadata": {},
   "source": [
    "### Density Plot"
   ]
  },
  {
   "cell_type": "code",
   "execution_count": null,
   "id": "3d4ada24-21fb-44be-bb5b-8adb3c3de2f2",
   "metadata": {},
   "outputs": [],
   "source": [
    "fig, ax = plt.subplots()\n",
    "g = sns.scatterplot(data=coords, x=\"latitude\", y=\"longitude\", size=\"density\", hue=\"density\")\n",
    "g.legend().remove()\n",
    "g.set_title(\"Population Density\")\n",
    "norm = plt.Normalize(coords['density'].min(), coords['density'].max())\n",
    "cmap = sns.cubehelix_palette(light=1, as_cmap=True)\n",
    "sm = plt.cm.ScalarMappable(cmap=cmap, norm=norm)\n",
    "ax.figure.colorbar(sm).set_label(\"Population Density ($mi^2$)\", rotation=270, labelpad=10)\n",
    "cnst.sf('viz_density.png')"
   ]
  },
  {
   "cell_type": "markdown",
   "id": "6ea1f11a-b8d7-4c38-ac35-47fd74ad82a5",
   "metadata": {},
   "source": [
    "### Final Utility Plot"
   ]
  },
  {
   "cell_type": "code",
   "execution_count": null,
   "id": "e751359a-94ca-42cf-978e-22a68e58b38f",
   "metadata": {},
   "outputs": [],
   "source": [
    "fig, ax = plt.subplots()\n",
    "cmap = sns.cubehelix_palette(start=.5, rot=-.5, as_cmap=True)\n",
    "g = sns.scatterplot(data=coords, x=\"latitude\", y=\"longitude\", size=\"util\", hue=\"util\", palette=cmap)\n",
    "g.legend().remove()\n",
    "g.set_title(\"Final Tract Utility\")\n",
    "norm = plt.Normalize(coords['util'].min(), coords['util'].max())\n",
    "sm = plt.cm.ScalarMappable(cmap=cmap, norm=norm)\n",
    "ax.figure.colorbar(sm).set_label(\"Utility\", rotation=270, labelpad=12)\n",
    "cnst.sf('viz_f_utility.png')"
   ]
  }
 ],
 "metadata": {
  "kernelspec": {
   "display_name": "Python [conda env:imcm] *",
   "language": "python",
   "name": "conda-env-imcm-py"
  },
  "language_info": {
   "codemirror_mode": {
    "name": "ipython",
    "version": 3
   },
   "file_extension": ".py",
   "mimetype": "text/x-python",
   "name": "python",
   "nbconvert_exporter": "python",
   "pygments_lexer": "ipython3",
   "version": "3.8.12"
  }
 },
 "nbformat": 4,
 "nbformat_minor": 5
}
